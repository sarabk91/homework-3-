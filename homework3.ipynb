{
  "nbformat": 4,
  "nbformat_minor": 0,
  "metadata": {
    "colab": {
      "provenance": [],
      "authorship_tag": "ABX9TyO/RFBeRqWOZ5cofZGQsZNl",
      "include_colab_link": true
    },
    "kernelspec": {
      "name": "python3",
      "display_name": "Python 3"
    },
    "language_info": {
      "name": "python"
    }
  },
  "cells": [
    {
      "cell_type": "markdown",
      "metadata": {
        "id": "view-in-github",
        "colab_type": "text"
      },
      "source": [
        "<a href=\"https://colab.research.google.com/github/sarabk91/homework-3-/blob/main/homework3.ipynb\" target=\"_parent\"><img src=\"https://colab.research.google.com/assets/colab-badge.svg\" alt=\"Open In Colab\"/></a>"
      ]
    },
    {
      "cell_type": "code",
      "execution_count": null,
      "metadata": {
        "id": "ZnEFVPoPSI4G"
      },
      "outputs": [],
      "source": [
        "import pandas as pd\n",
        "import numpy as np"
      ]
    },
    {
      "cell_type": "code",
      "source": [
        "import csv\n",
        "\n",
        "# Read the CSV file\n",
        "election_data = 'election_data.csv'\n",
        "\n",
        "# Initialize variables\n",
        "total_votes = 0\n",
        "candidates = {}\n",
        "winner_votes = 0\n",
        "winner = \"\"\n",
        "\n",
        "# Open the CSV file\n",
        "with open(election_data, 'r') as file:\n",
        "    csv_reader = csv.reader(file)\n",
        "    \n",
        "    # Skip the header row\n",
        "    header = next(csv_reader)\n",
        "    \n",
        "    # Iterate over each row in the CSV file\n",
        "    for row in csv_reader:\n",
        "        # Increment the total number of votes cast\n",
        "        total_votes += 1\n",
        "\n",
        "        # Get the candidate name from the row\n",
        "        candidate = row[2]\n",
        "\n",
        "        # Add the candidate to the dictionary if not already present\n",
        "        if candidate not in candidates:\n",
        "            candidates[candidate] = 0\n",
        "\n",
        "        # Increment the vote count for the candidate\n",
        "        candidates[candidate] += 1\n",
        "\n",
        "# Print the analysis to the terminal\n",
        "print(\"Election Results\")\n",
        "print(\"***************************\")\n",
        "print(f\"Total Votes: {total_votes}\")\n",
        "print(\"***************************\")\n",
        "for candidate, votes in candidates.items():\n",
        "    percentage = (votes / total_votes) * 100\n",
        "    print(f\"{candidate}: {percentage:.3f}% ({votes})\")\n",
        "    if votes > winner_votes:\n",
        "        winner_votes = votes\n",
        "        winner = candidate\n",
        "print(\"***************************\")\n",
        "print(f\"Winner: {winner}\")\n",
        "print(\"***************************\")"
      ],
      "metadata": {
        "colab": {
          "base_uri": "https://localhost:8080/"
        },
        "id": "PoRGQJKUS76D",
        "outputId": "63b68796-e807-4db7-b523-d5dba2461eff"
      },
      "execution_count": null,
      "outputs": [
        {
          "output_type": "stream",
          "name": "stdout",
          "text": [
            "Election Results\n",
            "***************************\n",
            "Total Votes: 369711\n",
            "***************************\n",
            "Charles Casper Stockham: 23.049% (85213)\n",
            "Diana DeGette: 73.812% (272892)\n",
            "Raymon Anthony Doane: 3.139% (11606)\n",
            "***************************\n",
            "Winner: Diana DeGette\n",
            "***************************\n"
          ]
        }
      ]
    },
    {
      "cell_type": "code",
      "source": [],
      "metadata": {
        "id": "Gnr09_lPT-zw"
      },
      "execution_count": null,
      "outputs": []
    },
    {
      "cell_type": "code",
      "source": [],
      "metadata": {
        "id": "OnvcbXGFT_Vo"
      },
      "execution_count": null,
      "outputs": []
    },
    {
      "cell_type": "code",
      "source": [
        "import csv\n",
        "\n",
        "# Set the path to the budget data file\n",
        "budget_1= \"budget_data.csv\"\n",
        "\n",
        "# Initialize variables\n",
        "total_months = 0\n",
        "net_total = 0\n",
        "previous_profit_loss = 0\n",
        "changes = []\n",
        "dates = []\n",
        "\n",
        "# Read the budget data file\n",
        "with open(budget_1, 'r') as csvfile:\n",
        "    csvreader = csv.reader(csvfile, delimiter=',')\n",
        "    \n",
        "    # Skip the header row\n",
        "    header = next(csvreader)\n",
        "    \n",
        "    # Loop through each row in the dataset\n",
        "    for row in csvreader:\n",
        "        # Increment the total number of months\n",
        "        total_months += 1\n",
        "        \n",
        "        # Add the current date to the list\n",
        "        dates.append(row[0])\n",
        "        \n",
        "        # Extract the profit/loss amount from the row\n",
        "        profit_loss = int(row[1])\n",
        "        \n",
        "        # Add the profit/loss amount to the net total\n",
        "        net_total += profit_loss\n",
        "        \n",
        "        # Calculate the change in profit/loss from the previous month\n",
        "        if total_months > 1:\n",
        "            change = profit_loss - previous_profit_loss\n",
        "            changes.append(change)\n",
        "        \n",
        "        # Update the previous profit/loss amount\n",
        "        previous_profit_loss = profit_loss\n",
        "\n",
        "# Calculate the average change in profit/loss\n",
        "average_change = sum(changes) / len(changes)\n",
        "\n",
        "# Find the greatest increase and decrease in profits\n",
        "greatest_increase = max(changes)\n",
        "greatest_increase_index = changes.index(greatest_increase)\n",
        "greatest_increase_date = dates[greatest_increase_index + 1]\n",
        "\n",
        "greatest_decrease = min(changes)\n",
        "greatest_decrease_index = changes.index(greatest_decrease)\n",
        "greatest_decrease_date = dates[greatest_decrease_index + 1]\n",
        "\n",
        "# Print the analysis results\n",
        "print(\"Financial Analysis\")\n",
        "print(\"***********************************\")\n",
        "print(f\"Total Months: {total_months}\")\n",
        "print(f\"Net Total: ${net_total}\")\n",
        "print(f\"Average Change: ${average_change:.2f}\")\n",
        "print(f\"Greatest Increase in Profits: {greatest_increase_date} (${greatest_increase})\")\n",
        "print(f\"Greatest Decrease in Profits: {greatest_decrease_date} (${greatest_decrease})\")"
      ],
      "metadata": {
        "colab": {
          "base_uri": "https://localhost:8080/"
        },
        "id": "l-ELoDQWT_Xw",
        "outputId": "f2eb6383-bf9c-443e-8eee-45ba6b0bf18f"
      },
      "execution_count": null,
      "outputs": [
        {
          "output_type": "stream",
          "name": "stdout",
          "text": [
            "Financial Analysis\n",
            "***********************************\n",
            "Total Months: 86\n",
            "Net Total: $22564198\n",
            "Average Change: $-8311.11\n",
            "Greatest Increase in Profits: Aug-16 ($1862002)\n",
            "Greatest Decrease in Profits: Feb-14 ($-1825558)\n"
          ]
        }
      ]
    }
  ]
}